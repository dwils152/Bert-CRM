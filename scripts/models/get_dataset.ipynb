{
 "cells": [
  {
   "cell_type": "code",
   "execution_count": 2,
   "metadata": {},
   "outputs": [
    {
     "name": "stderr",
     "output_type": "stream",
     "text": [
      "/users/dwils152/.conda/envs/dna3/lib/python3.8/site-packages/tqdm/auto.py:21: TqdmWarning: IProgress not found. Please update jupyter and ipywidgets. See https://ipywidgets.readthedocs.io/en/stable/user_install.html\n",
      "  from .autonotebook import tqdm as notebook_tqdm\n"
     ]
    }
   ],
   "source": [
    "from datasets import list_datasets, load_dataset\n",
    "\n",
    "dataset = load_dataset(\"reuters21578\", \"ModHayes\")"
   ]
  },
  {
   "cell_type": "code",
   "execution_count": 3,
   "metadata": {},
   "outputs": [
    {
     "name": "stdout",
     "output_type": "stream",
     "text": [
      "DatasetDict({\n",
      "    test: Dataset({\n",
      "        features: ['text', 'text_type', 'topics', 'lewis_split', 'cgis_split', 'old_id', 'new_id', 'places', 'people', 'orgs', 'exchanges', 'date', 'title'],\n",
      "        num_rows: 722\n",
      "    })\n",
      "    train: Dataset({\n",
      "        features: ['text', 'text_type', 'topics', 'lewis_split', 'cgis_split', 'old_id', 'new_id', 'places', 'people', 'orgs', 'exchanges', 'date', 'title'],\n",
      "        num_rows: 20856\n",
      "    })\n",
      "})\n"
     ]
    }
   ],
   "source": [
    "print(dataset)"
   ]
  },
  {
   "cell_type": "code",
   "execution_count": 4,
   "metadata": {},
   "outputs": [
    {
     "name": "stdout",
     "output_type": "stream",
     "text": [
      "{'text': \"U.S. Agriculture Secretary Richard\\nLyng said he would not agree to an extension of the 18-month\\nwhole dairy herd buyout program set to expire later this year.\\n    Speaking at the Agriculture Department to representatives\\nof the U.S. National Cattlemen's Association, Lyng said some\\ndairymen asked the program be extended.\\n    But he said the Reagan administration, which opposed the\\nwhole herd buyout program in the 1985 farm bill, would not\\nagree to an extension.\\n    The program begun in early 1986, is to be completed this\\nsummer. U.S. cattlemen bitterly opposed the scheme, complaining\\nthat increased dairy cow slaughter drove cattle prices down\\nlast year.\\n Reuter\\n\", 'text_type': '\"NORM\"', 'topics': ['livestock'], 'lewis_split': '\"NOT-USED\"', 'cgis_split': '\"PUBLISHED-TESTSET\"', 'old_id': '\"21451\"', 'new_id': '\"12594\"', 'places': ['usa'], 'people': ['lyng'], 'orgs': [], 'exchanges': [], 'date': ' 2-APR-1987 10:49:54.58', 'title': 'NO EXTENSION ON U.S. DAIRY HERD BUYOUT - LYNG'}\n"
     ]
    }
   ],
   "source": [
    "print(dataset['test'][0])"
   ]
  },
  {
   "cell_type": "code",
   "execution_count": 6,
   "metadata": {},
   "outputs": [
    {
     "name": "stdout",
     "output_type": "stream",
     "text": [
      "[['livestock'], ['crude', 'livestock', 'carcass'], ['earn'], [], [], ['pet-chem'], ['acq'], ['stg', 'money-fx'], ['trade'], ['livestock', 'carcass', 'trade'], ['trade'], ['acq'], [], ['stg', 'money-fx'], ['heat'], ['crude'], ['acq'], ['nat-gas'], [], ['earn'], [], ['grain', 'wheat'], ['earn'], [], ['livestock', 'carcass'], ['earn'], ['acq'], ['iron-steel'], [], ['trade'], ['earn'], ['acq'], [], ['interest'], ['reserves'], ['acq'], ['earn'], ['earn'], ['interest'], ['copper'], [], [], ['acq'], [], ['grain', 'wheat'], ['silver'], [], ['copper'], [], [], ['acq'], ['earn'], ['acq'], ['acq'], ['acq'], ['earn'], ['interest', 'money-fx'], ['copper'], ['acq'], ['interest', 'money-fx'], ['money-fx'], ['coffee'], [], ['interest'], ['earn'], ['earn'], ['acq'], ['acq'], [], ['acq'], ['earn'], [], [], ['acq'], ['acq'], [], ['heat'], [], ['earn'], ['stg', 'money-fx'], ['earn'], [], ['acq'], ['acq'], [], ['acq'], ['crude'], ['earn'], [], ['copper'], [], ['acq'], ['crude', 'nat-gas'], ['interest'], ['acq'], ['coffee'], ['sugar'], ['gas'], ['copper'], ['dlr', 'money-fx'], ['interest'], ['grain', 'corn'], ['interest'], ['acq'], ['acq'], ['acq'], [], ['coffee'], ['acq'], ['money-supply'], ['earn'], ['earn'], ['money-supply'], ['jet'], [], ['grain', 'wheat', 'corn', 'oilseed', 'soybean'], ['oilseed', 'rapeseed'], ['grain', 'corn', 'wheat', 'oilseed', 'soybean'], ['oilseed', 'rapeseed'], ['grain', 'corn'], ['money-supply'], ['earn'], ['acq'], ['acq'], [], ['acq'], ['grain', 'wheat', 'corn', 'oilseed', 'soybean'], ['earn'], ['acq'], ['grain', 'wheat'], [], ['copper'], ['grain', 'wheat'], ['strategic-metal'], ['gnp', 'gas'], ['acq', 'ship'], ['crude'], ['sugar'], ['tin'], ['crude'], ['grain', 'rice', 'wheat'], ['trade', 'gnp'], ['iron-steel'], ['crude'], ['crude'], ['jobs'], [], ['retail'], ['strategic-metal'], ['sugar'], ['strategic-metal'], ['instal-debt'], ['trade', 'gnp'], ['crude'], ['crude'], ['jobs'], ['trade'], ['grain', 'rice'], [], [], ['crude'], ['wpi'], ['acq'], ['money-fx', 'interest'], ['grain', 'rice', 'trade'], ['earn', 'alum'], ['veg-oil', 'palm-oil'], ['trade'], ['trade', 'grain', 'rice', 'carcass', 'livestock', 'orange'], ['trade', 'gnp', 'bop', 'reserves', 'money-fx'], [], ['cpi'], ['interest', 'money-fx', 'bfr', 'reserves'], ['ipi'], ['acq'], ['dlr', 'money-fx'], ['money-supply'], ['veg-oil', 'palm-oil'], ['trade'], [], ['trade', 'ipi'], ['trade', 'ipi', 'grain'], ['crude'], ['ship'], ['trade'], ['trade'], [], ['nat-gas'], ['ipi'], ['crude'], ['reserves'], ['trade'], ['acq', 'gold', 'silver', 'copper'], ['trade', 'oilseed', 'groundnut'], ['trade'], ['grain', 'wheat'], ['sugar'], ['money-fx', 'dlr', 'yen'], ['money-fx', 'dlr', 'yen'], ['money-fx'], ['acq'], ['hog', 'livestock'], ['interest'], ['dlr', 'interest', 'money-fx'], ['acq'], [], ['trade'], ['earn'], ['gnp'], ['tin'], ['interest'], ['retail'], ['heat'], ['acq'], ['money-fx'], [], ['acq'], [], ['crude'], ['nickel', 'acq'], [], ['acq'], ['coffee'], [], ['crude'], ['acq'], ['money-fx'], [], ['copper'], [], [], ['grain', 'wheat', 'barley', 'oilseed', 'rapeseed'], ['gold'], ['acq'], [], [], ['acq'], [], [], ['interest', 'money-fx', 'gnp'], [], [], ['oilseed', 'rapeseed'], ['grain', 'wheat'], ['trade'], [], ['acq'], [], ['cpi'], ['crude'], [], ['grain', 'corn'], ['money-fx'], ['sugar'], ['tea'], [], ['reserves'], ['interest', 'money-fx', 'money-supply'], ['money-fx', 'dlr', 'yen'], ['money-fx', 'dlr', 'yen'], ['money-fx', 'dlr'], ['sugar'], ['trade', 'money-fx', 'yen'], ['money-fx', 'yen'], [], ['interest'], ['money-fx', 'dlr'], ['ship'], ['trade'], ['trade'], ['acq'], ['interest'], ['money-fx', 'yen'], ['crude', 'nat-gas', 'pet-chem', 'acq'], ['nat-gas'], ['acq'], ['acq'], ['trade'], ['trade'], ['gnp', 'trade', 'cpi', 'jobs'], ['acq'], [], ['money-fx', 'dlr', 'yen'], ['money-fx'], ['hog', 'livestock'], ['income'], ['grain', 'corn', 'sorghum'], ['crude', 'nat-gas'], [], ['iron-steel'], ['crude', 'nat-gas'], ['sugar'], ['cpi'], ['acq'], ['crude', 'nat-gas'], ['crude', 'fuel', 'gas', 'naphtha', 'jet', 'nat-gas'], ['heat'], ['acq'], [], ['palm-oil', 'veg-oil'], ['bop', 'ipi', 'trade'], [], ['crude', 'nat-gas'], ['lead', 'zinc'], ['acq', 'crude'], [], [], ['earn'], [], ['acq'], [], ['ship'], ['copper', 'nickel'], ['bop', 'gnp'], [], [], ['acq', 'gold'], ['sugar'], [], ['gas'], ['money-fx', 'dlr', 'trade'], ['acq'], ['cpi'], ['ipi'], [], ['oilseed', 'sunseed', 'veg-oil', 'sun-oil'], ['oilseed', 'rapeseed'], [], ['acq'], ['crude', 'nat-gas', 'gas', 'pet-chem'], [], ['veg-oil'], ['money-fx', 'dlr', 'yen'], [], ['sugar'], ['money-fx', 'bop', 'coffee'], ['silver'], ['gnp', 'jobs', 'cpi'], ['gnp', 'bop'], ['ship', 'grain', 'corn'], ['acq'], ['interest', 'money-fx'], ['acq'], ['silver'], [], ['acq'], ['gnp'], [], ['silver'], ['iron-steel'], ['money-supply'], ['gnp'], [], [], [], ['crude', 'nat-gas', 'gas', 'fuel', 'cpi'], [], ['gold'], ['acq'], ['f-cattle', 'livestock'], ['lumber'], ['grain', 'wheat'], ['acq'], ['money-supply'], ['ipi', 'trade'], ['acq'], ['gnp', 'interest'], ['gas'], ['acq'], [], ['livestock', 'f-cattle', 'pork-belly', 'l-cattle', 'carcass'], ['silver'], ['acq'], ['grain', 'wheat', 'rice', 'cotton'], ['trade'], [], ['acq'], ['grain', 'corn'], ['acq'], ['gnp', 'cpi', 'jobs'], ['trade'], ['silver'], ['ipi'], [], ['gnp', 'crude', 'trade', 'bop'], ['interest'], ['money-supply', 'cpi'], ['trade'], [], ['money-fx'], [], ['trade', 'grain', 'wheat'], ['crude'], ['money-fx', 'dlr', 'interest'], ['trade'], ['trade', 'money-fx', 'dlr'], [], ['money-fx', 'interest'], ['trade', 'money-fx', 'dlr'], ['gnp'], [], ['money-fx', 'dlr'], ['money-fx', 'dlr', 'yen'], ['money-fx', 'dlr'], ['money-fx', 'dlr'], ['acq'], ['money-fx', 'dlr'], [], [], ['trade'], [], [], [], [], ['sugar'], ['interest', 'gnp'], ['jobs'], ['gold'], ['nat-gas'], [], [], ['alum', 'iron-steel', 'pet-chem'], ['ipi', 'inventories'], ['money-fx', 'dlr'], ['money-fx', 'dlr'], [], ['money-supply'], [], [], ['crude'], ['bop', 'trade'], ['zinc'], ['cpi'], ['money-fx', 'dlr', 'interest'], ['sugar'], [], ['bop', 'trade'], ['money-fx', 'interest'], ['trade'], ['money-supply'], ['interest'], ['money-fx'], [], ['acq'], ['trade'], [], [], ['crude'], [], ['trade'], ['grain', 'rice'], ['money-fx'], [], ['money-supply'], [], [], [], ['gold'], ['money-fx', 'dlr'], ['money-fx', 'dlr', 'interest'], ['money-fx', 'interest'], ['money-fx', 'dlr', 'interest'], ['trade'], ['money-fx', 'dlr'], [], [], ['gold'], ['trade'], ['sugar'], [], ['trade'], [], ['trade'], ['grain', 'rice'], [], ['trade'], ['trade', 'money-fx', 'dlr'], ['money-fx'], ['gold'], [], ['alum', 'iron-steel', 'pet-chem'], [], ['crude'], [], ['crude'], ['interest'], ['money-fx', 'dlr', 'lit'], [], [], ['money-fx', 'trade'], [], ['crude'], [], ['money-fx', 'dlr', 'lit'], ['iron-steel'], ['ship'], ['ipi', 'inventories'], ['trade'], ['trade'], ['money-fx'], ['trade', 'money-fx'], ['money-fx', 'dlr'], [], [], ['tin'], ['trade', 'alum', 'zinc', 'pet-chem', 'iron-steel', 'grain', 'wheat', 'corn', 'cotton', 'oilseed', 'soybean'], ['money-fx', 'dlr'], ['acq'], ['iron-steel'], ['reserves'], ['acq'], ['ship'], ['hog', 'livestock'], ['dlr', 'money-fx'], [], ['money-fx', 'trade'], ['grain', 'acq'], [], ['dlr', 'money-fx', 'interest'], [], [], ['jobs'], ['crude'], ['sugar'], [], ['grain', 'corn'], ['acq'], ['sugar'], ['trade'], [], ['oilseed', 'soybean', 'strategic-metal'], ['trade'], [], ['acq'], ['sugar'], ['sugar'], ['money-fx'], [], [], ['sugar'], ['acq'], [], ['acq'], [], ['grain', 'wheat', 'barley'], ['gnp'], ['crude', 'nat-gas'], ['crude', 'nat-gas'], ['crude', 'nat-gas'], ['grain', 'wheat'], ['nat-gas'], ['carcass', 'livestock', 'orange'], ['crude'], [], ['nat-gas'], [], ['dlr', 'money-fx'], ['ship'], ['crude'], ['grain', 'oilseed'], ['money-fx', 'dlr', 'stg'], [], ['crude', 'nat-gas'], ['hk', 'dlr', 'money-fx'], [], ['gnp'], [], ['reserves', 'trade'], ['bop', 'trade'], [], ['money-supply', 'reserves'], ['grain', 'corn'], ['income', 'ipi'], ['meal-feed', 'tapioca', 'grain', 'barley'], [], ['reserves', 'dlr', 'money-fx'], ['grain', 'wheat'], ['jobs'], ['gnp', 'trade', 'cpi'], ['oilseed', 'grain', 'veg-oil'], ['ship', 'iron-steel'], ['acq', 'alum'], ['veg-oil'], ['hog', 'livestock'], ['lei', 'gnp'], ['tea', 'coffee'], ['grain', 'corn'], [], ['money-fx', 'sfr', 'money-supply'], ['money-fx', 'dmk', 'interest'], ['money-fx', 'sfr', 'money-supply'], ['grain', 'wheat'], ['livestock'], ['wpi'], ['lei', 'gnp'], ['gnp', 'cpi', 'bop'], ['ship'], [], ['crude'], ['gnp'], [], ['crude'], ['fuel', 'heat', 'jet', 'gas', 'money-fx'], ['nat-gas'], ['ship'], ['ship'], [], [], ['crude', 'nat-gas'], ['nat-gas'], ['ship'], [], ['crude'], ['dlr', 'money-fx'], ['cotton'], ['nat-gas'], ['silver'], ['carcass', 'livestock'], [], ['grain', 'wheat'], ['crude', 'gas', 'fuel'], ['dlr', 'money-fx'], ['crude'], ['crude', 'nat-gas'], ['crude'], ['cpi'], ['crude'], ['cpi'], ['ship'], ['ship'], ['hog', 'livestock'], ['cpi'], ['sugar'], ['rubber'], ['grain', 'wheat'], ['veg-oil'], [], [], ['acq', 'pet-chem'], ['oilseed', 'rapeseed'], ['cocoa'], [], ['zinc'], ['pet-chem', 'rubber'], ['gold'], ['gold'], ['crude'], ['strategic-metal'], ['oilseed', 'rapeseed'], ['copper'], ['veg-oil'], ['copper'], ['veg-oil', 'cocoa', 'sugar'], ['sugar'], ['cocoa'], ['pet-chem'], ['trade'], ['grain', 'wheat'], ['crude', 'nat-gas'], ['iron-steel'], ['veg-oil'], ['dlr', 'money-fx'], ['crude', 'heat', 'gas'], [], ['iron-steel'], ['grain', 'corn', 'oilseed', 'soybean'], ['grain', 'oilseed', 'soybean', 'corn', 'meal-feed', 'soy-meal'], [], ['lead', 'zinc'], ['lead', 'zinc'], ['grain', 'wheat'], ['lead', 'zinc'], ['gold'], ['lead', 'zinc'], ['oilseed', 'soybean'], ['ship'], ['crude'], ['veg-oil'], ['jobs'], ['dlr', 'money-fx', 'trade'], ['gnp'], ['money-supply', 'reserves'], ['bop'], ['ship'], ['oilseed', 'soybean'], [], ['sugar'], ['copper'], ['oilseed', 'rapeseed'], ['crude'], ['gnp'], [], ['acq'], ['cotton'], ['money-supply'], ['acq'], [], [], [], [], ['trade'], ['fuel', 'ship'], ['money-fx'], [], [], ['crude'], [], [], [], ['money-fx', 'interest'], [], ['ipi'], ['gnp'], ['iron-steel'], ['zinc', 'lead', 'copper'], ['wpi'], ['sugar'], ['grain', 'rice'], ['money-fx', 'reserves', 'trade'], ['zinc'], ['housing'], ['veg-oil']]\n"
     ]
    }
   ],
   "source": [
    "print(dataset['test']['topics'])"
   ]
  },
  {
   "cell_type": "code",
   "execution_count": null,
   "metadata": {},
   "outputs": [],
   "source": []
  }
 ],
 "metadata": {
  "kernelspec": {
   "display_name": "dna3",
   "language": "python",
   "name": "python3"
  },
  "language_info": {
   "codemirror_mode": {
    "name": "ipython",
    "version": 3
   },
   "file_extension": ".py",
   "mimetype": "text/x-python",
   "name": "python",
   "nbconvert_exporter": "python",
   "pygments_lexer": "ipython3",
   "version": "3.8.18"
  }
 },
 "nbformat": 4,
 "nbformat_minor": 2
}
